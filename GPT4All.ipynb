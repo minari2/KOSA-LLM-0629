{
  "nbformat": 4,
  "nbformat_minor": 0,
  "metadata": {
    "colab": {
      "provenance": [],
      "authorship_tag": "ABX9TyPswCkTfnS8yMprN0c6EW2R",
      "include_colab_link": true
    },
    "kernelspec": {
      "name": "python3",
      "display_name": "Python 3"
    },
    "language_info": {
      "name": "python"
    },
    "accelerator": "TPU"
  },
  "cells": [
    {
      "cell_type": "markdown",
      "metadata": {
        "id": "view-in-github",
        "colab_type": "text"
      },
      "source": [
        "<a href=\"https://colab.research.google.com/github/JSJeong-me/KOSA-LLM-0629/blob/main/GPT4All.ipynb\" target=\"_parent\"><img src=\"https://colab.research.google.com/assets/colab-badge.svg\" alt=\"Open In Colab\"/></a>"
      ]
    },
    {
      "cell_type": "code",
      "execution_count": 1,
      "metadata": {
        "colab": {
          "base_uri": "https://localhost:8080/"
        },
        "id": "SfptpG0IPbcx",
        "outputId": "5bf1d7b4-4917-4ac8-d477-0f1c50fca416"
      },
      "outputs": [
        {
          "output_type": "stream",
          "name": "stdout",
          "text": [
            "Looking in indexes: https://pypi.org/simple, https://us-python.pkg.dev/colab-wheels/public/simple/\n",
            "Collecting gpt4all\n",
            "  Downloading gpt4all-0.3.2-py3-none-manylinux1_x86_64.whl (2.4 MB)\n",
            "\u001b[2K     \u001b[90m━━━━━━━━━━━━━━━━━━━━━━━━━━━━━━━━━━━━━━━━\u001b[0m \u001b[32m2.4/2.4 MB\u001b[0m \u001b[31m24.9 MB/s\u001b[0m eta \u001b[36m0:00:00\u001b[0m\n",
            "\u001b[?25hRequirement already satisfied: requests in /usr/local/lib/python3.10/dist-packages (from gpt4all) (2.27.1)\n",
            "Requirement already satisfied: tqdm in /usr/local/lib/python3.10/dist-packages (from gpt4all) (4.65.0)\n",
            "Requirement already satisfied: urllib3<1.27,>=1.21.1 in /usr/local/lib/python3.10/dist-packages (from requests->gpt4all) (1.26.15)\n",
            "Requirement already satisfied: certifi>=2017.4.17 in /usr/local/lib/python3.10/dist-packages (from requests->gpt4all) (2022.12.7)\n",
            "Requirement already satisfied: charset-normalizer~=2.0.0 in /usr/local/lib/python3.10/dist-packages (from requests->gpt4all) (2.0.12)\n",
            "Requirement already satisfied: idna<4,>=2.5 in /usr/local/lib/python3.10/dist-packages (from requests->gpt4all) (3.4)\n",
            "Installing collected packages: gpt4all\n",
            "Successfully installed gpt4all-0.3.2\n"
          ]
        }
      ],
      "source": [
        "!pip install gpt4all"
      ]
    },
    {
      "cell_type": "code",
      "source": [
        "import gpt4all\n",
        "\n",
        "gptj = gpt4all.GPT4All(\"ggml-gpt4all-j-v1.3-groovy\")\n",
        "messages = [{\"role\": \"user\", \"content\": \"Give me a list of 10 colors and their RGB code\"}]\n",
        "ret = gptj.chat_completion(messages)\n",
        "print(ret)"
      ],
      "metadata": {
        "colab": {
          "base_uri": "https://localhost:8080/"
        },
        "id": "CjNCrUunPkAn",
        "outputId": "2fa38226-b810-4548-a907-712c46c6b58e"
      },
      "execution_count": 2,
      "outputs": [
        {
          "output_type": "stream",
          "name": "stderr",
          "text": [
            "100%|██████████| 3.79G/3.79G [01:06<00:00, 57.3MiB/s]\n"
          ]
        },
        {
          "output_type": "stream",
          "name": "stdout",
          "text": [
            "Model downloaded at:  /root/.cache/gpt4all/ggml-gpt4all-j-v1.3-groovy.bin\n",
            "### Instruction: \n",
            "            The prompt below is a question to answer, a task to complete, or a conversation \n",
            "            to respond to; decide which and write an appropriate response.\n",
            "            \n",
            "### Prompt: \n",
            "Give me a list of 10 colors and their RGB code\n",
            "### Response:\n",
            " \n",
            "Here is a list of 10 colors and their RGB code:\n",
            "Red (255, 0, 0)  Blue (0, 255, 0)\n",
            "Green (255, 0, 255)  Yellow (255, 255, 0)\n",
            "Orange (255, 127, 255)  Purple (0, 128, 0)\n",
            "Cyan (255, 255, 0)  White (255, 255, 255)\n",
            "Black (0, 0, 0)  Gray (128, 128, 128)\n",
            "Red (255, 0, 0)  Green (0, 255, 0)\n",
            "Blue (255,\n",
            "{'model': 'ggml-gpt4all-j-v1.3-groovy', 'usage': {'prompt_tokens': 272, 'completion_tokens': 294, 'total_tokens': 566}, 'choices': [{'message': {'role': 'assistant', 'content': ' \\nHere is a list of 10 colors and their RGB code:\\nRed (255, 0, 0)  Blue (0, 255, 0)\\nGreen (255, 0, 255)  Yellow (255, 255, 0)\\nOrange (255, 127, 255)  Purple (0, 128, 0)\\nCyan (255, 255, 0)  White (255, 255, 255)\\nBlack (0, 0, 0)  Gray (128, 128, 128)\\nRed (255, 0, 0)  Green (0, 255, 0)\\nBlue (255,'}}]}\n"
          ]
        }
      ]
    },
    {
      "cell_type": "code",
      "source": [
        "import json\n",
        "import gpt4all\n",
        "\n",
        "gptj = gpt4all.GPT4All(\"ggml-gpt4all-j-v1.3-groovy\")\n",
        "messages = [{\"role\": \"user\", \"content\": \"Can you explain what is a large language model?\"}]\n",
        "ret = gptj.chat_completion(messages)\n",
        "\n",
        "messages.append(ret[\"choices\"][0][\"message\"])\n",
        "messages.append({\"role\": \"user\", \"content\": \"Can you give some examples applications?\"})\n",
        "ret = gptj.chat_completion(messages)\n",
        "\n",
        "messages.append(ret[\"choices\"][0][\"message\"])\n",
        "messages.append({\"role\": \"user\", \"content\": \"Are there any limitations?\"})\n",
        "ret = gptj.chat_completion(messages)\n",
        "\n",
        "messages.append(ret[\"choices\"][0][\"message\"])\n",
        "messages.append({\"role\": \"user\", \"content\": \"Summarize the above in two sentences.\"})\n",
        "ret = gptj.chat_completion(messages)\n",
        "\n",
        "print(json.dumps(messages, indent=4))\n",
        "print(json.dumps(ret, indent=4))"
      ],
      "metadata": {
        "colab": {
          "base_uri": "https://localhost:8080/"
        },
        "id": "haZgloxLQMtL",
        "outputId": "762efa03-cbb6-4a6d-d8c8-ccbd167ca281"
      },
      "execution_count": 3,
      "outputs": [
        {
          "output_type": "stream",
          "name": "stdout",
          "text": [
            "Found model file at  /root/.cache/gpt4all/ggml-gpt4all-j-v1.3-groovy.bin\n",
            "### Instruction: \n",
            "            The prompt below is a question to answer, a task to complete, or a conversation \n",
            "            to respond to; decide which and write an appropriate response.\n",
            "            \n",
            "### Prompt: \n",
            "Can you explain what is a large language model?\n",
            "### Response:\n",
            " \n",
            "A large language model is a type of artificial intelligence that can process and understand natural language, including speech or text. It is designed to simulate human intelligence and can perform tasks such as answering questions, generating text or speech, and even conversing with humans. Large language models are often used in applications such as chatbots, language translation software, and virtual assistants.\n",
            "### Instruction: \n",
            "            The prompt below is a question to answer, a task to complete, or a conversation \n",
            "            to respond to; decide which and write an appropriate response.\n",
            "            \n",
            "### Prompt: \n",
            "Can you explain what is a large language model?\n",
            "### Response:  \n",
            "A large language model is a type of artificial intelligence that can process and understand natural language, including speech or text. It is designed to simulate human intelligence and can perform tasks such as answering questions, generating text or speech, and even conversing with humans. Large language models are often used in applications such as chatbots, language translation software, and virtual assistants.\n",
            "Can you give some examples applications?\n",
            "### Response:\n",
            "  \n",
            "Sure, some examples of applications for large language models include:\n",
            "- Chatbots that can answer customer inquiries and provide personalized assistance\n",
            "- Language translation software that can translate text or speech from one language to another\n",
            "- Virtual assistants that can assist with tasks such as scheduling meetings, sending emails or texts, and setting reminders\n",
            "- Language learning software that can help users improve their language skills by providing them with examples and feedback on their speech or writing\n",
            "- Speech recognition software that can transcribe spoken words into text for people who are deaf or hard of hearing.\n",
            "### Instruction: \n",
            "            The prompt below is a question to answer, a task to complete, or a conversation \n",
            "            to respond to; decide which and write an appropriate response.\n",
            "            \n",
            "### Prompt: \n",
            "Can you explain what is a large language model?\n",
            "### Response:  \n",
            "A large language model is a type of artificial intelligence that can process and understand natural language, including speech or text. It is designed to simulate human intelligence and can perform tasks such as answering questions, generating text or speech, and even conversing with humans. Large language models are often used in applications such as chatbots, language translation software, and virtual assistants.\n",
            "Can you give some examples applications?\n",
            "### Response:   \n",
            "Sure, some examples of applications for large language models include:\n",
            "- Chatbots that can answer customer inquiries and provide personalized assistance\n",
            "- Language translation software that can translate text or speech from one language to another\n",
            "- Virtual assistants that can assist with tasks such as scheduling meetings, sending emails or texts, and setting reminders\n",
            "- Language learning software that can help users improve their language skills by providing them with examples and feedback on their speech or writing\n",
            "- Speech recognition software that can transcribe spoken words into text for people who are deaf or hard of hearing.\n",
            "Are there any limitations?\n",
            "### Response:\n",
            "  \n",
            "Yes, there are some limitations to large language models. One of the main challenges is that they are often limited by their training data, which can be biased towards certain types of language or specific contexts. Additionally, large models can be computationally expensive to train and maintain, which can make them less practical for smaller applications or devices with limited resources. Finally, large language models can be prone to errors or misunderstandings, especially when dealing with complex language structures or nuances.\n",
            "### Instruction: \n",
            "            The prompt below is a question to answer, a task to complete, or a conversation \n",
            "            to respond to; decide which and write an appropriate response.\n",
            "            \n",
            "### Prompt: \n",
            "Can you explain what is a large language model?\n",
            "### Response:  \n",
            "A large language model is a type of artificial intelligence that can process and understand natural language, including speech or text. It is designed to simulate human intelligence and can perform tasks such as answering questions, generating text or speech, and even conversing with humans. Large language models are often used in applications such as chatbots, language translation software, and virtual assistants.\n",
            "Can you give some examples applications?\n",
            "### Response:   \n",
            "Sure, some examples of applications for large language models include:\n",
            "- Chatbots that can answer customer inquiries and provide personalized assistance\n",
            "- Language translation software that can translate text or speech from one language to another\n",
            "- Virtual assistants that can assist with tasks such as scheduling meetings, sending emails or texts, and setting reminders\n",
            "- Language learning software that can help users improve their language skills by providing them with examples and feedback on their speech or writing\n",
            "- Speech recognition software that can transcribe spoken words into text for people who are deaf or hard of hearing.\n",
            "Are there any limitations?\n",
            "### Response:   \n",
            "Yes, there are some limitations to large language models. One of the main challenges is that they are often limited by their training data, which can be biased towards certain types of language or specific contexts. Additionally, large models can be computationally expensive to train and maintain, which can make them less practical for smaller applications or devices with limited resources. Finally, large language models can be prone to errors or misunderstandings, especially when dealing with complex language structures or nuances.\n",
            "Summarize the above in two sentences.\n",
            "### Response:\n",
            "   \n",
            "A large language model is an artificial intelligence that can process and understand natural language, including speech or text. It is designed to simulate human intelligence and can perform tasks such as answering questions, generating text or speech, and even conversing with humans. Large language models are often used in applications such as chatbots, language translation software, virtual assistants, and speech recognition. However, there are some limitations such as biased training data and computational expense, which can make them less practical for smaller applications or devices with limited resources.\n",
            "[\n",
            "    {\n",
            "        \"role\": \"user\",\n",
            "        \"content\": \"Can you explain what is a large language model?\"\n",
            "    },\n",
            "    {\n",
            "        \"role\": \"assistant\",\n",
            "        \"content\": \" \\nA large language model is a type of artificial intelligence that can process and understand natural language, including speech or text. It is designed to simulate human intelligence and can perform tasks such as answering questions, generating text or speech, and even conversing with humans. Large language models are often used in applications such as chatbots, language translation software, and virtual assistants.\"\n",
            "    },\n",
            "    {\n",
            "        \"role\": \"user\",\n",
            "        \"content\": \"Can you give some examples applications?\"\n",
            "    },\n",
            "    {\n",
            "        \"role\": \"assistant\",\n",
            "        \"content\": \"  \\nSure, some examples of applications for large language models include:\\n- Chatbots that can answer customer inquiries and provide personalized assistance\\n- Language translation software that can translate text or speech from one language to another\\n- Virtual assistants that can assist with tasks such as scheduling meetings, sending emails or texts, and setting reminders\\n- Language learning software that can help users improve their language skills by providing them with examples and feedback on their speech or writing\\n- Speech recognition software that can transcribe spoken words into text for people who are deaf or hard of hearing.\"\n",
            "    },\n",
            "    {\n",
            "        \"role\": \"user\",\n",
            "        \"content\": \"Are there any limitations?\"\n",
            "    },\n",
            "    {\n",
            "        \"role\": \"assistant\",\n",
            "        \"content\": \"  \\nYes, there are some limitations to large language models. One of the main challenges is that they are often limited by their training data, which can be biased towards certain types of language or specific contexts. Additionally, large models can be computationally expensive to train and maintain, which can make them less practical for smaller applications or devices with limited resources. Finally, large language models can be prone to errors or misunderstandings, especially when dealing with complex language structures or nuances.\"\n",
            "    },\n",
            "    {\n",
            "        \"role\": \"user\",\n",
            "        \"content\": \"Summarize the above in two sentences.\"\n",
            "    }\n",
            "]\n",
            "{\n",
            "    \"model\": \"ggml-gpt4all-j-v1.3-groovy\",\n",
            "    \"usage\": {\n",
            "        \"prompt_tokens\": 2027,\n",
            "        \"completion_tokens\": 622,\n",
            "        \"total_tokens\": 2649\n",
            "    },\n",
            "    \"choices\": [\n",
            "        {\n",
            "            \"message\": {\n",
            "                \"role\": \"assistant\",\n",
            "                \"content\": \"   \\nA large language model is an artificial intelligence that can process and understand natural language, including speech or text. It is designed to simulate human intelligence and can perform tasks such as answering questions, generating text or speech, and even conversing with humans. Large language models are often used in applications such as chatbots, language translation software, virtual assistants, and speech recognition. However, there are some limitations such as biased training data and computational expense, which can make them less practical for smaller applications or devices with limited resources.\"\n",
            "            }\n",
            "        }\n",
            "    ]\n",
            "}\n"
          ]
        }
      ]
    },
    {
      "cell_type": "markdown",
      "source": [
        "Note that you invoked the model multiple times. Each time it responded, you took the output and appended it to the list of messages so you accumulated the context. Then you add a new dialog and invoke the model again. You need to collect the messages because each time you invoke the model, it starts afresh without knowing the previous conversation. So it is your job to keep the history to remind the model of its prior responses.\n",
        "\n",
        "Below is an example of the output of the code above, in which the last input message to the model and its response is printed. You may get a better result from another model. You may also get a different result due to the randomness in the model:\n"
      ],
      "metadata": {
        "id": "cbVPA3xtQIqM"
      }
    },
    {
      "cell_type": "code",
      "source": [
        "[\n",
        "    {\n",
        "        \"role\": \"user\",\n",
        "        \"content\": \"Can you explain what is a large language model?\"\n",
        "    },\n",
        "    {\n",
        "        \"role\": \"assistant\",\n",
        "        \"content\": \" A large language model is a type of artificial intelligence that can process and understand natural language, such as speech or text. It is trained on large amounts of data and can perform tasks such as language translation, sentiment analysis or even answering questions. Large language models are becoming increasingly popular in various industries, including finance and healthcare.\"\n",
        "    },\n",
        "    {\n",
        "        \"role\": \"user\",\n",
        "        \"content\": \"Can you give some examples applications?\"\n",
        "    },\n",
        "    {\n",
        "        \"role\": \"assistant\",\n",
        "        \"content\": \"  Large language models are being used in a variety of applications, such as:- Language translation and machine translation, where large language models are trained on vast amounts of data to improve accuracy and speed.- Sentiment analysis, where large language models are trained to analyze social media data and identify patterns in user opinions.- Question answering, where large language models are trained to answer questions based on a large corpus of data.- Healthcare, where large language models are being used to analyze patient data and identify patterns in health trends.- Finance, where large language models are being used to analyze financial data and identify patterns in\"\n",
        "    },\n",
        "    {\n",
        "        \"role\": \"user\",\n",
        "        \"content\": \"Are there any limitations?\"\n",
        "    },\n",
        "    {\n",
        "        \"role\": \"assistant\",\n",
        "        \"content\": \"  Yes, there are some limitations to large language models. One of the main challenges is that they require a lot of data to train, which can be expensive and time-consuming. Additionally, large language models can be computationally expensive and may require specialized hardware to run. Another limitation is that large language models may not be able to understand the nuances of human language, which can make them less effective in certain situations. Finally, large language models may not be able to understand the context of a conversation or text, which can make them less effective in certain applications.\"\n",
        "    },\n",
        "    {\n",
        "        \"role\": \"user\",\n",
        "        \"content\": \"Summarize the above in two sentences.\"\n",
        "    }\n",
        "]\n",
        "{\n",
        "    \"model\": \"ggml-gpt4all-j-v1.3-groovy\",\n",
        "    \"usage\": {\n",
        "        \"prompt_tokens\": 2113,\n",
        "        \"completion_tokens\": 542,\n",
        "        \"total_tokens\": 2655\n",
        "    },\n",
        "    \"choices\": [\n",
        "        {\n",
        "            \"message\": {\n",
        "                \"role\": \"assistant\",\n",
        "                \"content\": \"  Large language models are a type of artificial intelligence that can process and understand natural language, such as speech or text. They are trained on large amounts of data and can perform tasks such as language translation, sentiment analysis or even answering questions. They are becoming increasingly popular in various industries, including finance and healthcare. However, there are some limitations such as expensive data and specialized hardware, computational expense, lack of understanding nuances in human language and context.\"\n",
        "            }\n",
        "        }\n",
        "    ]\n",
        "}"
      ],
      "metadata": {
        "colab": {
          "base_uri": "https://localhost:8080/"
        },
        "id": "f-PKXPjSQU21",
        "outputId": "d3b8d60f-6796-4f08-ba68-821504253e55"
      },
      "execution_count": 4,
      "outputs": [
        {
          "output_type": "execute_result",
          "data": {
            "text/plain": [
              "{'model': 'ggml-gpt4all-j-v1.3-groovy',\n",
              " 'usage': {'prompt_tokens': 2113,\n",
              "  'completion_tokens': 542,\n",
              "  'total_tokens': 2655},\n",
              " 'choices': [{'message': {'role': 'assistant',\n",
              "    'content': '  Large language models are a type of artificial intelligence that can process and understand natural language, such as speech or text. They are trained on large amounts of data and can perform tasks such as language translation, sentiment analysis or even answering questions. They are becoming increasingly popular in various industries, including finance and healthcare. However, there are some limitations such as expensive data and specialized hardware, computational expense, lack of understanding nuances in human language and context.'}}]}"
            ]
          },
          "metadata": {},
          "execution_count": 4
        }
      ]
    }
  ]
}